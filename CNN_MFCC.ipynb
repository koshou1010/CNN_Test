{
 "cells": [
  {
   "cell_type": "code",
   "execution_count": 1,
   "metadata": {},
   "outputs": [],
   "source": [
    "from tensorflow.keras.preprocessing import image\n",
    "import numpy as np\n",
    "import matplotlib.pyplot as plt\n",
    "import os\n",
    "import cv2\n",
    "from tqdm import tqdm"
   ]
  },
  {
   "cell_type": "code",
   "execution_count": 2,
   "metadata": {},
   "outputs": [],
   "source": [
    "DATADIR = \"C:/Users/123/Datasets/MFCC/training\""
   ]
  },
  {
   "cell_type": "code",
   "execution_count": 3,
   "metadata": {},
   "outputs": [],
   "source": [
    "CATEGORIES = [\"MFCC0\", \"MFCC1\", \"MFCC2\"]"
   ]
  },
  {
   "cell_type": "code",
   "execution_count": 4,
   "metadata": {},
   "outputs": [
    {
     "data": {
      "image/png": "[encoded data removed]",
      "text/plain": [
       "<Figure size 432x288 with 1 Axes>"
      ]
     },
     "metadata": {
      "needs_background": "light"
     },
     "output_type": "display_data"
    }
   ],
   "source": [
    "for category in CATEGORIES:  # do NAsthma and YAsthma\n",
    "    path = os.path.join(DATADIR,category)  # create path to NAsthma and YAsthma\n",
    "    for img in os.listdir(path):  # 在每個圖像上重複 YAsthma and NAsthma\n",
    "        img_array = cv2.imread(os.path.join(path,img) ,cv2.IMREAD_COLOR)  # convert to array\n",
    "        plt.imshow(img_array)  # graph it\n",
    "        plt.show()  # display!\n",
    "\n",
    "        break  # we just want one for now so break\n",
    "    break  #...and one more!"
   ]
  },
  {
   "cell_type": "code",
   "execution_count": 5,
   "metadata": {},
   "outputs": [
    {
     "data": {
      "text/plain": [
       "array([[[255, 255, 255],\n",
       "        [255, 255, 255],\n",
       "        [255, 255, 255],\n",
       "        ...,\n",
       "        [255, 255, 255],\n",
       "        [255, 255, 255],\n",
       "        [255, 255, 255]],\n",
       "\n",
       "       [[255, 255, 255],\n",
       "        [255, 255, 255],\n",
       "        [255, 255, 255],\n",
       "        ...,\n",
       "        [255, 255, 255],\n",
       "        [255, 255, 255],\n",
       "        [255, 255, 255]],\n",
       "\n",
       "       [[255, 255, 255],\n",
       "        [255, 255, 255],\n",
       "        [255, 255, 255],\n",
       "        ...,\n",
       "        [255, 255, 255],\n",
       "        [255, 255, 255],\n",
       "        [255, 255, 255]],\n",
       "\n",
       "       ...,\n",
       "\n",
       "       [[255, 255, 255],\n",
       "        [255, 255, 255],\n",
       "        [255, 255, 255],\n",
       "        ...,\n",
       "        [255, 255, 255],\n",
       "        [255, 255, 255],\n",
       "        [255, 255, 255]],\n",
       "\n",
       "       [[255, 255, 255],\n",
       "        [255, 255, 255],\n",
       "        [255, 255, 255],\n",
       "        ...,\n",
       "        [255, 255, 255],\n",
       "        [255, 255, 255],\n",
       "        [255, 255, 255]],\n",
       "\n",
       "       [[255, 255, 255],\n",
       "        [255, 255, 255],\n",
       "        [255, 255, 255],\n",
       "        ...,\n",
       "        [255, 255, 255],\n",
       "        [255, 255, 255],\n",
       "        [255, 255, 255]]], dtype=uint8)"
      ]
     },
     "execution_count": 5,
     "metadata": {},
     "output_type": "execute_result"
    }
   ],
   "source": [
    "cv2.imread(\"C:/Users/123/Datasets/MFCC/training/MFCC0/201.PNG\")"
   ]
  },
  {
   "cell_type": "code",
   "execution_count": 6,
   "metadata": {},
   "outputs": [
    {
     "data": {
      "text/plain": [
       "(1886, 3562, 3)"
      ]
     },
     "execution_count": 6,
     "metadata": {},
     "output_type": "execute_result"
    }
   ],
   "source": [
    "cv2.imread(\"C:/Users/123/Datasets/MFCC/training/MFCC0/201.PNG\").shape"
   ]
  },
  {
   "cell_type": "code",
   "execution_count": 7,
   "metadata": {},
   "outputs": [
    {
     "data": {
      "image/png": "[encoded data removed]",
      "text/plain": [
       "<Figure size 432x288 with 1 Axes>"
      ]
     },
     "metadata": {
      "needs_background": "light"
     },
     "output_type": "display_data"
    }
   ],
   "source": [
    "IMG_SIZE = 64\n",
    "\n",
    "new_array = cv2.resize(img_array, (IMG_SIZE, IMG_SIZE))\n",
    "plt.imshow(new_array, cmap='gray')\n",
    "plt.show()"
   ]
  },
  {
   "cell_type": "code",
   "execution_count": 8,
   "metadata": {},
   "outputs": [
    {
     "data": {
      "text/plain": [
       "(64, 64, 3)"
      ]
     },
     "execution_count": 8,
     "metadata": {},
     "output_type": "execute_result"
    }
   ],
   "source": [
    "new_array.shape"
   ]
  },
  {
   "cell_type": "code",
   "execution_count": 9,
   "metadata": {},
   "outputs": [
    {
     "data": {
      "image/png": "[encoded data removed]",
      "text/plain": [
       "<Figure size 432x288 with 1 Axes>"
      ]
     },
     "metadata": {
      "needs_background": "light"
     },
     "output_type": "display_data"
    }
   ],
   "source": [
    "new_array = cv2.resize(img_array, (IMG_SIZE, IMG_SIZE))\n",
    "plt.imshow(new_array)\n",
    "plt.show()"
   ]
  },
  {
   "cell_type": "code",
   "execution_count": 10,
   "metadata": {},
   "outputs": [
    {
     "name": "stderr",
     "output_type": "stream",
     "text": [
      "100%|██████████████████████████████████████████████████████████████████████████████████| 59/59 [00:03<00:00, 15.43it/s]\n",
      "100%|██████████████████████████████████████████████████████████████████████████████████| 35/35 [00:02<00:00, 15.81it/s]\n",
      "100%|██████████████████████████████████████████████████████████████████████████████████| 15/15 [00:00<00:00, 15.77it/s]"
     ]
    },
    {
     "name": "stdout",
     "output_type": "stream",
     "text": [
      "109\n"
     ]
    },
    {
     "name": "stderr",
     "output_type": "stream",
     "text": [
      "\n"
     ]
    }
   ],
   "source": [
    "training_data = []\n",
    "\n",
    "def create_training_data():\n",
    "    for category in CATEGORIES:  # do NAsthma and YAsthma\n",
    "\n",
    "        path = os.path.join(DATADIR,category)  # create path to NAsthma and YAsthma\n",
    "        class_num = CATEGORIES.index(category)  # get the classification  (0 or a 1). 0=NAsthma 1=YAsthma\n",
    "\n",
    "        for img in tqdm(os.listdir(path)):  # iterate over each image per NAsthma and YAsthma\n",
    "            try:\n",
    "                img_array = cv2.imread(os.path.join(path,img) ,cv2.IMREAD_COLOR)  # convert to array\n",
    "                new_array = cv2.resize(img_array, (IMG_SIZE, IMG_SIZE))  # resize to normalize data size\n",
    "                training_data.append([new_array, class_num])  # add this to our training_data\n",
    "            except Exception as e:  # in the interest in keeping the output clean...\n",
    "                pass\n",
    "            #except OSError as e:\n",
    "            #    print(\"OSErrroBad img most likely\", e, os.path.join(path,img))\n",
    "            #except Exception as e:\n",
    "            #    print(\"general exception\", e, os.path.join(path,img))\n",
    "            \n",
    "\n",
    "\n",
    "create_training_data()\n",
    "\n",
    "\n",
    "\n",
    "print(len(training_data))\n"
   ]
  },
  {
   "cell_type": "code",
   "execution_count": 11,
   "metadata": {},
   "outputs": [],
   "source": [
    "import random\n",
    "\n",
    "random.shuffle(training_data)"
   ]
  },
  {
   "cell_type": "code",
   "execution_count": 12,
   "metadata": {},
   "outputs": [
    {
     "name": "stdout",
     "output_type": "stream",
     "text": [
      "0\n",
      "0\n",
      "0\n",
      "0\n",
      "0\n",
      "0\n",
      "0\n",
      "1\n",
      "0\n",
      "0\n"
     ]
    }
   ],
   "source": [
    "for sample in training_data[:10]:\n",
    "    print(sample[1])"
   ]
  },
  {
   "cell_type": "code",
   "execution_count": 13,
   "metadata": {},
   "outputs": [
    {
     "name": "stdout",
     "output_type": "stream",
     "text": [
      "[[[[255]\n",
      "   [255]\n",
      "   [255]\n",
      "   ...\n",
      "   [255]\n",
      "   [255]\n",
      "   [255]]\n",
      "\n",
      "  [[255]\n",
      "   [255]\n",
      "   [255]\n",
      "   ...\n",
      "   [255]\n",
      "   [255]\n",
      "   [255]]\n",
      "\n",
      "  [[255]\n",
      "   [255]\n",
      "   [255]\n",
      "   ...\n",
      "   [255]\n",
      "   [255]\n",
      "   [255]]\n",
      "\n",
      "  ...\n",
      "\n",
      "  [[141]\n",
      "   [241]\n",
      "   [108]\n",
      "   ...\n",
      "   [240]\n",
      "   [110]\n",
      "   [139]]\n",
      "\n",
      "  [[240]\n",
      "   [110]\n",
      "   [139]\n",
      "   ...\n",
      "   [  0]\n",
      "   [  0]\n",
      "   [  0]]\n",
      "\n",
      "  [[255]\n",
      "   [255]\n",
      "   [255]\n",
      "   ...\n",
      "   [143]\n",
      "   [241]\n",
      "   [111]]]\n",
      "\n",
      "\n",
      " [[[141]\n",
      "   [241]\n",
      "   [108]\n",
      "   ...\n",
      "   [240]\n",
      "   [110]\n",
      "   [139]]\n",
      "\n",
      "  [[240]\n",
      "   [110]\n",
      "   [139]\n",
      "   ...\n",
      "   [  0]\n",
      "   [  0]\n",
      "   [  0]]\n",
      "\n",
      "  [[255]\n",
      "   [255]\n",
      "   [255]\n",
      "   ...\n",
      "   [143]\n",
      "   [241]\n",
      "   [111]]\n",
      "\n",
      "  ...\n",
      "\n",
      "  [[230]\n",
      "   [ 89]\n",
      "   [114]\n",
      "   ...\n",
      "   [  0]\n",
      "   [  0]\n",
      "   [  0]]\n",
      "\n",
      "  [[255]\n",
      "   [255]\n",
      "   [255]\n",
      "   ...\n",
      "   [110]\n",
      "   [228]\n",
      "   [ 88]]\n",
      "\n",
      "  [[112]\n",
      "   [229]\n",
      "   [ 88]\n",
      "   ...\n",
      "   [231]\n",
      "   [ 89]\n",
      "   [114]]]\n",
      "\n",
      "\n",
      " [[[230]\n",
      "   [ 89]\n",
      "   [114]\n",
      "   ...\n",
      "   [  0]\n",
      "   [  0]\n",
      "   [  0]]\n",
      "\n",
      "  [[255]\n",
      "   [255]\n",
      "   [255]\n",
      "   ...\n",
      "   [110]\n",
      "   [228]\n",
      "   [ 88]]\n",
      "\n",
      "  [[112]\n",
      "   [229]\n",
      "   [ 88]\n",
      "   ...\n",
      "   [231]\n",
      "   [ 89]\n",
      "   [114]]\n",
      "\n",
      "  ...\n",
      "\n",
      "  [[255]\n",
      "   [255]\n",
      "   [255]\n",
      "   ...\n",
      "   [255]\n",
      "   [255]\n",
      "   [255]]\n",
      "\n",
      "  [[255]\n",
      "   [255]\n",
      "   [255]\n",
      "   ...\n",
      "   [255]\n",
      "   [255]\n",
      "   [255]]\n",
      "\n",
      "  [[255]\n",
      "   [255]\n",
      "   [255]\n",
      "   ...\n",
      "   [255]\n",
      "   [255]\n",
      "   [255]]]]\n"
     ]
    }
   ],
   "source": [
    "X = []\n",
    "y = []\n",
    "\n",
    "for features,label in training_data:\n",
    "    X.append(features)\n",
    "    y.append(label)\n",
    "\n",
    "print(X[0].reshape(-1, IMG_SIZE, IMG_SIZE, 1))\n",
    "\n",
    "X = np.array(X).reshape(-1, IMG_SIZE, IMG_SIZE, 3)\n",
    "y = np.array(y)"
   ]
  },
  {
   "cell_type": "code",
   "execution_count": 14,
   "metadata": {},
   "outputs": [
    {
     "data": {
      "text/plain": [
       "(109, 64, 64, 3)"
      ]
     },
     "execution_count": 14,
     "metadata": {},
     "output_type": "execute_result"
    }
   ],
   "source": [
    "X.shape"
   ]
  },
  {
   "cell_type": "code",
   "execution_count": 15,
   "metadata": {},
   "outputs": [],
   "source": [
    "import pickle\n",
    "\n",
    "pickle_out = open(\"X.pickle\",\"wb\")\n",
    "pickle.dump(X, pickle_out)\n",
    "pickle_out.close()\n",
    "\n",
    "pickle_out = open(\"y.pickle\",\"wb\")\n",
    "pickle.dump(y, pickle_out)\n",
    "pickle_out.close()"
   ]
  },
  {
   "cell_type": "code",
   "execution_count": 16,
   "metadata": {},
   "outputs": [],
   "source": [
    "pickle_in = open(\"X.pickle\",\"rb\")\n",
    "X = pickle.load(pickle_in)\n",
    "\n",
    "pickle_in = open(\"y.pickle\",\"rb\")\n",
    "y = pickle.load(pickle_in)"
   ]
  },
  {
   "cell_type": "code",
   "execution_count": 17,
   "metadata": {},
   "outputs": [
    {
     "name": "stderr",
     "output_type": "stream",
     "text": [
      "Using TensorFlow backend.\n"
     ]
    }
   ],
   "source": [
    "import tensorflow as tf\n",
    "from tensorflow.keras.datasets import cifar10\n",
    "from tensorflow.keras.preprocessing.image import ImageDataGenerator\n",
    "from tensorflow.keras.models import Sequential\n",
    "from tensorflow.keras.layers import Dense, Dropout, Activation, Flatten\n",
    "from tensorflow.keras.layers import Conv2D, MaxPooling2D\n",
    "from keras.utils import np_utils\n",
    "import pickle\n",
    "\n",
    "pickle_in = open(\"X.pickle\",\"rb\")\n",
    "X = pickle.load(pickle_in)\n",
    "\n",
    "pickle_in = open(\"y.pickle\",\"rb\")\n",
    "y = pickle.load(pickle_in)\n",
    "\n",
    "X = X/255.0\n",
    "y=np_utils.to_categorical(y)\n"
   ]
  },
  {
   "cell_type": "code",
   "execution_count": 18,
   "metadata": {},
   "outputs": [
    {
     "data": {
      "text/plain": [
       "(109, 3)"
      ]
     },
     "execution_count": 18,
     "metadata": {},
     "output_type": "execute_result"
    }
   ],
   "source": [
    "y.shape"
   ]
  },
  {
   "cell_type": "code",
   "execution_count": 19,
   "metadata": {},
   "outputs": [
    {
     "name": "stdout",
     "output_type": "stream",
     "text": [
      "WARNING:tensorflow:From C:\\Users\\123\\anaconda3\\envs\\gpu\\lib\\site-packages\\tensorflow_core\\python\\ops\\resource_variable_ops.py:1630: calling BaseResourceVariable.__init__ (from tensorflow.python.ops.resource_variable_ops) with constraint is deprecated and will be removed in a future version.\n",
      "Instructions for updating:\n",
      "If using Keras pass *_constraint arguments to layers.\n"
     ]
    }
   ],
   "source": [
    "#Add CNN model\n",
    "model = Sequential()\n",
    "\n",
    "model.add(Conv2D(filters=16\n",
    "                 , kernel_size=(3, 3)\n",
    "                 , padding=\"same\"\n",
    "                 , input_shape=(64, 64, 3)\n",
    "                 , activation='relu'))\n",
    "\n",
    "model.add(MaxPooling2D(pool_size=(2, 2)))\n",
    "model.add(Conv2D(filters=64\n",
    "                 , kernel_size=(3, 3)\n",
    "                 , padding=\"same\"\n",
    "                 , activation='relu'))\n",
    "model.add(MaxPooling2D(pool_size=(2, 2)))\n",
    "model.add(Dropout(0.25))\n",
    "model.add(Flatten())  # this converts our 3D feature maps to 1D feature vectors\n",
    "\n",
    "model.add(Dense(256\n",
    "         , activation='relu'))\n",
    "model.add(Dropout(0.2))\n",
    "model.add(Dense(3\n",
    "               , activation='softmax'))\n",
    "\n"
   ]
  },
  {
   "cell_type": "code",
   "execution_count": 20,
   "metadata": {},
   "outputs": [
    {
     "name": "stdout",
     "output_type": "stream",
     "text": [
      "Model: \"sequential\"\n",
      "_________________________________________________________________\n",
      "Layer (type)                 Output Shape              Param #   \n",
      "=================================================================\n",
      "conv2d (Conv2D)              (None, 64, 64, 16)        448       \n",
      "_________________________________________________________________\n",
      "max_pooling2d (MaxPooling2D) (None, 32, 32, 16)        0         \n",
      "_________________________________________________________________\n",
      "conv2d_1 (Conv2D)            (None, 32, 32, 64)        9280      \n",
      "_________________________________________________________________\n",
      "max_pooling2d_1 (MaxPooling2 (None, 16, 16, 64)        0         \n",
      "_________________________________________________________________\n",
      "dropout (Dropout)            (None, 16, 16, 64)        0         \n",
      "_________________________________________________________________\n",
      "flatten (Flatten)            (None, 16384)             0         \n",
      "_________________________________________________________________\n",
      "dense (Dense)                (None, 256)               4194560   \n",
      "_________________________________________________________________\n",
      "dropout_1 (Dropout)          (None, 256)               0         \n",
      "_________________________________________________________________\n",
      "dense_1 (Dense)              (None, 3)                 771       \n",
      "=================================================================\n",
      "Total params: 4,205,059\n",
      "Trainable params: 4,205,059\n",
      "Non-trainable params: 0\n",
      "_________________________________________________________________\n",
      "None\n"
     ]
    }
   ],
   "source": [
    "print(model.summary())"
   ]
  },
  {
   "cell_type": "code",
   "execution_count": 21,
   "metadata": {},
   "outputs": [],
   "source": [
    "model.compile(loss='binary_crossentropy',\n",
    "              optimizer='adam',\n",
    "              metrics=['accuracy'])\n"
   ]
  },
  {
   "cell_type": "code",
   "execution_count": 63,
   "metadata": {},
   "outputs": [
    {
     "name": "stdout",
     "output_type": "stream",
     "text": [
      "Train on 87 samples, validate on 22 samples\n",
      "Epoch 1/10\n",
      "87/87 - 0s - loss: 0.2602 - acc: 0.8812 - val_loss: 0.5034 - val_acc: 0.7273\n",
      "Epoch 2/10\n",
      "87/87 - 0s - loss: 0.2837 - acc: 0.8582 - val_loss: 0.4803 - val_acc: 0.7424\n",
      "Epoch 3/10\n",
      "87/87 - 0s - loss: 0.2626 - acc: 0.8774 - val_loss: 0.5976 - val_acc: 0.7273\n",
      "Epoch 4/10\n",
      "87/87 - 0s - loss: 0.2248 - acc: 0.9119 - val_loss: 0.5112 - val_acc: 0.7424\n",
      "Epoch 5/10\n",
      "87/87 - 0s - loss: 0.2260 - acc: 0.9004 - val_loss: 0.5213 - val_acc: 0.7576\n",
      "Epoch 6/10\n",
      "87/87 - 0s - loss: 0.2107 - acc: 0.9310 - val_loss: 0.5681 - val_acc: 0.7424\n",
      "Epoch 7/10\n",
      "87/87 - 0s - loss: 0.2771 - acc: 0.8697 - val_loss: 0.5875 - val_acc: 0.7121\n",
      "Epoch 8/10\n",
      "87/87 - 0s - loss: 0.2341 - acc: 0.8851 - val_loss: 0.4879 - val_acc: 0.7424\n",
      "Epoch 9/10\n",
      "87/87 - 0s - loss: 0.2663 - acc: 0.8851 - val_loss: 0.6381 - val_acc: 0.7576\n",
      "Epoch 10/10\n",
      "87/87 - 0s - loss: 0.2392 - acc: 0.9042 - val_loss: 0.5501 - val_acc: 0.7273\n"
     ]
    }
   ],
   "source": [
    "train_history=model.fit(X,\n",
    "                       y, validation_split=0.2,\n",
    "                       epochs=10, batch_size=10,verbose=2)"
   ]
  },
  {
   "cell_type": "code",
   "execution_count": 64,
   "metadata": {},
   "outputs": [
    {
     "name": "stdout",
     "output_type": "stream",
     "text": [
      "109/109 [==============================] - 0s 229us/sample - loss: 0.2479 - acc: 0.9144\n"
     ]
    },
    {
     "data": {
      "text/plain": [
       "0.91437316"
      ]
     },
     "execution_count": 64,
     "metadata": {},
     "output_type": "execute_result"
    }
   ],
   "source": [
    "scores=model.evaluate(X,\n",
    "                      y)\n",
    "scores[1]"
   ]
  },
  {
   "cell_type": "code",
   "execution_count": 65,
   "metadata": {},
   "outputs": [],
   "source": [
    "def show_train_history(train_history, train, validation):\n",
    "    plt.plot(train_history.history[train])\n",
    "    plt.plot(train_history.history[validation])\n",
    "    plt.title('Train History')\n",
    "    plt.ylabel('train')\n",
    "    plt.xlabel('Epoch')\n",
    "    plt.legend(['train', 'validation'], loc='center right')\n",
    "    plt.show()"
   ]
  },
  {
   "cell_type": "code",
   "execution_count": 66,
   "metadata": {},
   "outputs": [
    {
     "data": {
      "image/png": "[encoded data removed]",
      "text/plain": [
       "<Figure size 432x288 with 1 Axes>"
      ]
     },
     "metadata": {
      "needs_background": "light"
     },
     "output_type": "display_data"
    }
   ],
   "source": [
    "show_train_history(train_history,'acc','val_acc')"
   ]
  },
  {
   "cell_type": "code",
   "execution_count": 67,
   "metadata": {},
   "outputs": [
    {
     "data": {
      "image/png": "[encoded data removed]",
      "text/plain": [
       "<Figure size 432x288 with 1 Axes>"
      ]
     },
     "metadata": {
      "needs_background": "light"
     },
     "output_type": "display_data"
    }
   ],
   "source": [
    "show_train_history(train_history, 'loss','val_loss')"
   ]
  },
  {
   "cell_type": "code",
   "execution_count": 68,
   "metadata": {},
   "outputs": [],
   "source": [
    "prediction=model.predict_classes(X)\n"
   ]
  },
  {
   "cell_type": "code",
   "execution_count": 69,
   "metadata": {},
   "outputs": [
    {
     "data": {
      "text/plain": [
       "array([0, 0, 0, 0, 0], dtype=int64)"
      ]
     },
     "execution_count": 69,
     "metadata": {},
     "output_type": "execute_result"
    }
   ],
   "source": [
    "prediction[:5]"
   ]
  },
  {
   "cell_type": "code",
   "execution_count": 70,
   "metadata": {},
   "outputs": [],
   "source": [
    "#from tensorflow.keras.preprocessing import image\n",
    "\n",
    "#dir_path = 'C:/Users/123/Datasets/MFCC/testing'\n",
    "\n",
    "#for i in os.listdir(dir_path ):\n",
    "\n",
    "   # img = image.load_img(dir_path+'//'+ i, target_size=(64, 64))\n",
    "    #IMG_SIZE = 64\n",
    "    #new_array = cv2.resize(img_array, (IMG_SIZE, IMG_SIZE))\n",
    "   # plt.imshow(img)\n",
    "   # plt.show()\n",
    "    \n",
    "\n",
    "   \n",
    "    #img2=cv2.resize(img_array, (IMG_SIZE, IMG_SIZE))\n",
    "    #X = image.img_to_array(img)\n",
    "    #X = np.expand_dims(X, axis = 0)\n",
    "    #images = np.vstack([X])\n",
    "    #val= model.predict(images)\n",
    "    #if val == 0 :\n",
    "     #   print (\"You are great\")\n",
    "    #else:\n",
    "     #   print (\"You got Asthma\")"
   ]
  },
  {
   "cell_type": "code",
   "execution_count": null,
   "metadata": {},
   "outputs": [],
   "source": []
  }
 ],
 "metadata": {
  "kernelspec": {
   "display_name": "Python 3",
   "language": "python",
   "name": "python3"
  },
  "language_info": {
   "codemirror_mode": {
    "name": "ipython",
    "version": 3
   },
   "file_extension": ".py",
   "mimetype": "text/x-python",
   "name": "python",
   "nbconvert_exporter": "python",
   "pygments_lexer": "ipython3",
   "version": "3.7.9"
  }
 },
 "nbformat": 4,
 "nbformat_minor": 4
}
